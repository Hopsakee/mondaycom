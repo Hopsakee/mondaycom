{
 "cells": [
  {
   "cell_type": "markdown",
   "metadata": {},
   "source": [
    "# core\n",
    "\n",
    "> Functions to make the use of Monday.com even easier for Jelle."
   ]
  },
  {
   "cell_type": "code",
   "execution_count": 1,
   "metadata": {},
   "outputs": [],
   "source": [
    "# | default_exp core"
   ]
  },
  {
   "cell_type": "code",
   "execution_count": 2,
   "metadata": {},
   "outputs": [],
   "source": [
    "# | hide\n",
    "from nbdev.showdoc import *"
   ]
  },
  {
   "cell_type": "code",
   "execution_count": 3,
   "metadata": {},
   "outputs": [],
   "source": [
    "# | export\n",
    "import requests\n",
    "import json\n",
    "import os\n",
    "from dotenv import load_dotenv\n",
    "from textwrap import dedent"
   ]
  },
  {
   "cell_type": "markdown",
   "metadata": {},
   "source": [
    "## Load the environment variables and set the API headers"
   ]
  },
  {
   "cell_type": "code",
   "execution_count": 4,
   "metadata": {},
   "outputs": [],
   "source": [
    "# | export\n",
    "load_dotenv()\n",
    "apiKey = os.environ[\"API_KEY_MONDAY\"]\n",
    "apiUrl = \"https://api.monday.com/v2\"\n",
    "headers = {\"Authorization\": f\"Bearer {apiKey}\", \"API-Version\": \"2023-04\"}"
   ]
  },
  {
   "cell_type": "markdown",
   "metadata": {},
   "source": [
    "## Some example json queries"
   ]
  },
  {
   "cell_type": "markdown",
   "metadata": {},
   "source": [
    "#### Boards"
   ]
  },
  {
   "cell_type": "markdown",
   "metadata": {},
   "source": [
    "| Boardname | Board id | \n",
    "| --- | --- |\n",
    "| Epic | 757753649 |\n",
    "| Sprint bord, actief | 757790388 |"
   ]
  },
  {
   "cell_type": "markdown",
   "metadata": {},
   "source": [
    "#### Columns Epic board"
   ]
  },
  {
   "cell_type": "markdown",
   "metadata": {},
   "source": [
    "#### Columns Sprint board"
   ]
  },
  {
   "cell_type": "markdown",
   "metadata": {},
   "source": [
    "| Column Text | Column ID | Type | Value text | Value id |\n",
    "| --- | --- | --- | --- | --- |\n",
    "| Status stories | status_stories | Select | To Do | 16 |\n",
    "| \" | \" | \" | Working on it | 0 |\n",
    "| \" | \" | \" | Wacht op Antwoord | 6 |\n",
    "| \" | \" | \" | Wacht op review | 7 |\n",
    "| \" | \" | \" | Done | 1 |\n",
    "| Due Date | date7 | ? | ? | ? |\n",
    "| Trekker | person | ? | ? | assigned_to_me |\n",
    "| Reviewer | people | ? | ? | assigned_to_me |\n",
    "\n",
    "\n"
   ]
  },
  {
   "cell_type": "markdown",
   "metadata": {},
   "source": [
    "Query to fetch all tasks for current sprint assigned to Jelle"
   ]
  },
  {
   "cell_type": "code",
   "execution_count": 34,
   "metadata": {},
   "outputs": [],
   "source": [
    "# | export\n",
    "query_sprint_tasks = dedent(\"\"\"\n",
    "    query {\n",
    "        boards(ids: 757790388) {\n",
    "            items_page(\n",
    "                query_params: {\n",
    "                    rules: [\n",
    "                        {\n",
    "                        column_id: \"status_stories\",\n",
    "                        compare_value: [16, 0, 6, 7], #  [\"To Do\", \"Working on it\", \"Wacht op Antwoord\", \"Wacht op review\"],\n",
    "                        operator: any_of\n",
    "                    }, {\n",
    "                        column_id: \"date7\",\n",
    "                        compare_value: [\"EXACT\", \"2025-04-23\"],\n",
    "                        operator: lower_than_or_equal\n",
    "                    }],\n",
    "                    operator: and\n",
    "                    groups: {\n",
    "                        rules: [\n",
    "                            { column_id: \"person\",\n",
    "                            compare_value: [\"assigned_to_me\"],\n",
    "                            operator: any_of\n",
    "                            },\n",
    "                            { column_id: \"people\",\n",
    "                            compare_value: [\"assigned_to_me\"],\n",
    "                            operator: any_of\n",
    "                            }\n",
    "                        ],\n",
    "                        operator: or\n",
    "                        }\n",
    "                    },\n",
    "            ) {\n",
    "                cursor\n",
    "                items {\n",
    "                    id\n",
    "                    name\n",
    "                    column_values(ids: [\"person\", \"people\", \"status_stories\", \"numbers5\", \"date7\", \"story_syntax\"]) {\n",
    "                    id\n",
    "                    text\n",
    "                    value\n",
    "                    }\n",
    "                }\n",
    "            }\n",
    "        }\n",
    "    }\n",
    "    \"\"\").strip()"
   ]
  },
  {
   "cell_type": "markdown",
   "metadata": {},
   "source": [
    "See all column names and their ids from a given board"
   ]
  },
  {
   "cell_type": "code",
   "execution_count": 17,
   "metadata": {},
   "outputs": [],
   "source": [
    "# | export\n",
    "query_board_columns = dedent(\"\"\"\n",
    "    query {\n",
    "        boards(\n",
    "            ids: [757790388]\n",
    "        ) {\n",
    "            columns {\n",
    "                id\n",
    "                title\n",
    "                type\n",
    "            }\n",
    "        }\n",
    "    }\"\"\").strip()"
   ]
  },
  {
   "cell_type": "markdown",
   "metadata": {},
   "source": [
    "## Retrieve the data from Monday.com"
   ]
  },
  {
   "cell_type": "code",
   "execution_count": 31,
   "metadata": {},
   "outputs": [],
   "source": [
    "# | export\n",
    "def get_data(\n",
    "    query: str,  # GraphQL query\n",
    "    api_url: str = apiUrl,  # Monday.com API url\n",
    "    headers: dict = headers,  # Monday.com API headers\n",
    ") -> dict:  # response from Monday.com API\n",
    "    data = {\"query\": query}\n",
    "    return requests.post(url=apiUrl, json=data, headers=headers)"
   ]
  },
  {
   "cell_type": "code",
   "execution_count": 32,
   "metadata": {},
   "outputs": [
    {
     "data": {
      "text/plain": [
       "{'data': {'boards': [{'columns': [{'id': 'name',\n",
       "      'title': 'Name',\n",
       "      'type': 'name'},\n",
       "     {'id': 'person', 'title': 'Trekker', 'type': 'people'},\n",
       "     {'id': 'people', 'title': 'Reviewer', 'type': 'people'},\n",
       "     {'id': 'status_stories', 'title': 'Status stories', 'type': 'status'},\n",
       "     {'id': 'label', 'title': 'Taak type', 'type': 'status'},\n",
       "     {'id': 'numbers5', 'title': 'Estimation', 'type': 'numbers'},\n",
       "     {'id': 'link_to_stories__main2',\n",
       "      'title': 'Epic',\n",
       "      'type': 'board_relation'},\n",
       "     {'id': 'mirror__1', 'title': 'STP epic 1e schatting', 'type': 'mirror'},\n",
       "     {'id': 'mirror6__1',\n",
       "      'title': 'STP epic huidige schatting',\n",
       "      'type': 'mirror'},\n",
       "     {'id': 'subitems', 'title': 'Subitems', 'type': 'subtasks'},\n",
       "     {'id': 'mirror_10', 'title': 'Status epic', 'type': 'mirror'},\n",
       "     {'id': 'creation_log', 'title': 'Date created', 'type': 'creation_log'},\n",
       "     {'id': 'date7', 'title': 'Due Date', 'type': 'date'},\n",
       "     {'id': 'date', 'title': 'Done Date', 'type': 'date'},\n",
       "     {'id': 'date6', 'title': 'Added to current sprint', 'type': 'date'},\n",
       "     {'id': 'story_syntax', 'title': 'Story syntax', 'type': 'long_text'},\n",
       "     {'id': 'dependent_on', 'title': 'Dependent On', 'type': 'dependency'},\n",
       "     {'id': 'item_id', 'title': 'Item ID', 'type': 'item_id'},\n",
       "     {'id': 'long_text', 'title': 'Defintion of Done', 'type': 'long_text'},\n",
       "     {'id': 'monday_doc_v2__1',\n",
       "      'title': 'monday Doc v2',\n",
       "      'type': 'direct_doc'},\n",
       "     {'id': 'numbers__1', 'title': 'Prio', 'type': 'numbers'},\n",
       "     {'id': 'formula_mkmxe18h', 'title': 'Uren budget', 'type': 'formula'}]}]},\n",
       " 'account_id': 9271674}"
      ]
     },
     "execution_count": 32,
     "metadata": {},
     "output_type": "execute_result"
    }
   ],
   "source": [
    "m_cols = get_data(query_board_columns)\n",
    "m_cols.json()"
   ]
  },
  {
   "cell_type": "code",
   "execution_count": 35,
   "metadata": {},
   "outputs": [
    {
     "data": {
      "text/plain": [
       "{'data': {'boards': [{'items_page': {'cursor': None,\n",
       "     'items': [{'id': '1901240058',\n",
       "       'name': 'Verwerken opmerkingen Stefan in document voorstel Python ondersteuning',\n",
       "       'column_values': [{'id': 'person',\n",
       "         'text': 'Jelle de Jong',\n",
       "         'value': '{\"changed_at\":\"2025-04-04T08:11:20.725Z\",\"personsAndTeams\":[{\"id\":23028787,\"kind\":\"person\"}]}'},\n",
       "        {'id': 'people', 'text': '', 'value': None},\n",
       "        {'id': 'status_stories',\n",
       "         'text': 'Wacht op review',\n",
       "         'value': '{\"index\":7,\"post_id\":null,\"changed_at\":\"2025-04-14T11:43:07.035Z\"}'},\n",
       "        {'id': 'numbers5', 'text': '1', 'value': '\"1\"'},\n",
       "        {'id': 'date7',\n",
       "         'text': '2025-04-14',\n",
       "         'value': '{\"date\":\"2025-04-14\",\"changed_at\":\"2025-04-04T08:13:10.724Z\"}'},\n",
       "        {'id': 'story_syntax', 'text': '', 'value': None}]},\n",
       "      {'id': '1866097158',\n",
       "       'name': 'Richtlijnen Databricks Code uitwerken',\n",
       "       'column_values': [{'id': 'person',\n",
       "         'text': 'Joris Monster',\n",
       "         'value': '{\"changed_at\":\"2025-03-13T08:03:16.125Z\",\"personsAndTeams\":[{\"id\":65571290,\"kind\":\"person\"}]}'},\n",
       "        {'id': 'people',\n",
       "         'text': 'Jelle de Jong',\n",
       "         'value': '{\"changed_at\":\"2025-04-08T14:05:29.969Z\",\"personsAndTeams\":[{\"id\":23028787,\"kind\":\"person\"}]}'},\n",
       "        {'id': 'status_stories',\n",
       "         'text': 'Wacht op review',\n",
       "         'value': '{\"index\":7,\"post_id\":null,\"changed_at\":\"2025-04-08T14:05:26.364Z\"}'},\n",
       "        {'id': 'numbers5', 'text': '1', 'value': '\"1\"'},\n",
       "        {'id': 'date7',\n",
       "         'text': '2025-04-23',\n",
       "         'value': '{\"date\":\"2025-04-23\",\"changed_at\":\"2025-04-03T11:18:50.242Z\"}'},\n",
       "        {'id': 'story_syntax', 'text': '', 'value': None}]},\n",
       "      {'id': '1840735140',\n",
       "       'name': 'Vergelijkbare periode opzoeken in de 3 jaar met elk van de 3 methodes',\n",
       "       'column_values': [{'id': 'person',\n",
       "         'text': 'Rutger Feijen',\n",
       "         'value': '{\"changed_at\":\"2025-04-01T11:19:03.078Z\",\"personsAndTeams\":[{\"id\":29486269,\"kind\":\"person\"}]}'},\n",
       "        {'id': 'people',\n",
       "         'text': 'Jelle de Jong',\n",
       "         'value': '{\"changed_at\":\"2025-04-01T11:19:18.916Z\",\"personsAndTeams\":[{\"id\":23028787,\"kind\":\"person\"}]}'},\n",
       "        {'id': 'status_stories',\n",
       "         'text': 'Working on it',\n",
       "         'value': '{\"index\":0,\"post_id\":null,\"changed_at\":\"2025-04-03T06:07:47.743Z\"}'},\n",
       "        {'id': 'numbers5', 'text': '2', 'value': '\"2\"'},\n",
       "        {'id': 'date7',\n",
       "         'text': '2025-04-23',\n",
       "         'value': '{\"date\":\"2025-04-23\",\"changed_at\":\"2025-04-03T11:18:50.242Z\"}'},\n",
       "        {'id': 'story_syntax', 'text': '', 'value': None}]},\n",
       "      {'id': '1840736254',\n",
       "       'name': 'Statistische tests uitvoeren',\n",
       "       'column_values': [{'id': 'person',\n",
       "         'text': 'Rutger Feijen',\n",
       "         'value': '{\"changed_at\":\"2025-04-01T11:19:03.078Z\",\"personsAndTeams\":[{\"id\":29486269,\"kind\":\"person\"}]}'},\n",
       "        {'id': 'people',\n",
       "         'text': 'Jelle de Jong',\n",
       "         'value': '{\"changed_at\":\"2025-04-01T11:19:18.916Z\",\"personsAndTeams\":[{\"id\":23028787,\"kind\":\"person\"}]}'},\n",
       "        {'id': 'status_stories',\n",
       "         'text': 'Working on it',\n",
       "         'value': '{\"index\":0,\"post_id\":null,\"changed_at\":\"2025-04-03T06:07:54.226Z\"}'},\n",
       "        {'id': 'numbers5', 'text': '3', 'value': '\"3\"'},\n",
       "        {'id': 'date7',\n",
       "         'text': '2025-04-23',\n",
       "         'value': '{\"date\":\"2025-04-23\",\"changed_at\":\"2025-04-03T11:18:50.242Z\"}'},\n",
       "        {'id': 'story_syntax', 'text': '', 'value': None}]},\n",
       "      {'id': '1843946862',\n",
       "       'name': 'Intern overleg: Hoe kunnen we hydrologen en anderen buiten datalab helpen om Python code te schrijven, beherenen delen',\n",
       "       'column_values': [{'id': 'person',\n",
       "         'text': 'Jelle de Jong',\n",
       "         'value': '{\"changed_at\":\"2025-02-27T08:55:55.404Z\",\"personsAndTeams\":[{\"id\":23028787,\"kind\":\"person\"}]}'},\n",
       "        {'id': 'people', 'text': '', 'value': None},\n",
       "        {'id': 'status_stories',\n",
       "         'text': 'To Do',\n",
       "         'value': '{\"index\":16,\"post_id\":null,\"changed_at\":\"2025-02-27T08:55:58.312Z\"}'},\n",
       "        {'id': 'numbers5', 'text': '1', 'value': '\"1\"'},\n",
       "        {'id': 'date7',\n",
       "         'text': '2025-04-23',\n",
       "         'value': '{\"date\":\"2025-04-23\",\"changed_at\":\"2025-04-03T11:18:50.242Z\"}'},\n",
       "        {'id': 'story_syntax',\n",
       "         'text': 'Als incidentele Python code schrijver wil ik in staat zijn om Python code te schrijven voor mijn eigen gebruik en dit volgens WDODelta standaarden doen, zodat we elkaar kunnen ondersteunen en betrouwbare tools kunnen schrijven. Daarbij wil ik ook in staat zijn om de code te verbeteren of laten verbeteren als blijkt dat deze ook goed bruikbaar is door anderen. Versie controle en de mogelijkheid om code te delen met anderen zodat ook zij het kunnen gebruiken is nodig.',\n",
       "         'value': '{\"text\":\"Als incidentele Python code schrijver wil ik in staat zijn om Python code te schrijven voor mijn eigen gebruik en dit volgens WDODelta standaarden doen, zodat we elkaar kunnen ondersteunen en betrouwbare tools kunnen schrijven. Daarbij wil ik ook in staat zijn om de code te verbeteren of laten verbeteren als blijkt dat deze ook goed bruikbaar is door anderen. Versie controle en de mogelijkheid om code te delen met anderen zodat ook zij het kunnen gebruiken is nodig.\",\"changed_at\":\"2025-02-27T09:02:00.673Z\"}'}]},\n",
       "      {'id': '1828929252',\n",
       "       'name': 'Validatie tool monitoringsgegevens begrijpen en draaien',\n",
       "       'column_values': [{'id': 'person',\n",
       "         'text': 'Jelle de Jong',\n",
       "         'value': '{\"changed_at\":\"2025-02-18T07:06:42.964Z\",\"personsAndTeams\":[{\"id\":23028787,\"kind\":\"person\"}]}'},\n",
       "        {'id': 'people',\n",
       "         'text': 'Fransje van Oorschot',\n",
       "         'value': '{\"changed_at\":\"2025-02-18T07:06:45.349Z\",\"personsAndTeams\":[{\"id\":65571319,\"kind\":\"person\"}]}'},\n",
       "        {'id': 'status_stories',\n",
       "         'text': 'To Do',\n",
       "         'value': '{\"index\":16,\"post_id\":null,\"changed_at\":\"2025-04-03T08:37:17.211Z\"}'},\n",
       "        {'id': 'numbers5', 'text': '1', 'value': '\"1\"'},\n",
       "        {'id': 'date7',\n",
       "         'text': '2025-04-23',\n",
       "         'value': '{\"date\":\"2025-04-23\",\"changed_at\":\"2025-04-03T11:18:50.242Z\"}'},\n",
       "        {'id': 'story_syntax', 'text': '', 'value': None}]},\n",
       "      {'id': '1820161343',\n",
       "       'name': 'Maximum toerental van gemalen uit Clearscada implementeren in code',\n",
       "       'column_values': [{'id': 'person',\n",
       "         'text': 'Fransje van Oorschot',\n",
       "         'value': '{\"changed_at\":\"2025-02-12T09:02:14.792Z\",\"personsAndTeams\":[{\"id\":65571319,\"kind\":\"person\"}]}'},\n",
       "        {'id': 'people',\n",
       "         'text': 'Jelle de Jong',\n",
       "         'value': '{\"changed_at\":\"2025-02-12T09:02:16.621Z\",\"personsAndTeams\":[{\"id\":23028787,\"kind\":\"person\"}]}'},\n",
       "        {'id': 'status_stories',\n",
       "         'text': 'To Do',\n",
       "         'value': '{\"index\":16,\"post_id\":null,\"changed_at\":\"2025-04-02T09:59:58.482Z\"}'},\n",
       "        {'id': 'numbers5', 'text': '2', 'value': '\"2\"'},\n",
       "        {'id': 'date7',\n",
       "         'text': '2025-04-23',\n",
       "         'value': '{\"date\":\"2025-04-23\",\"changed_at\":\"2025-04-03T11:18:50.242Z\"}'},\n",
       "        {'id': 'story_syntax', 'text': '', 'value': None}]}]}}]},\n",
       " 'account_id': 9271674}"
      ]
     },
     "execution_count": 35,
     "metadata": {},
     "output_type": "execute_result"
    }
   ],
   "source": [
    "# | export\n",
    "r = get_data(query_sprint_tasks)\n",
    "r.json()"
   ]
  },
  {
   "cell_type": "markdown",
   "metadata": {},
   "source": [
    "## Convert the API response to Markdown"
   ]
  },
  {
   "cell_type": "markdown",
   "metadata": {},
   "source": [
    "Het json deel van de response van de API query wordt geconverteerd naar Markdown.\n",
    "Het format van de response en de gewenste gegevens bepalen natuurlijk hoe je die gegevens ophaalt.\n",
    "De functie `get_items` pakt dit op een lompe, maar voor mij, bruikbare manier aan.\n",
    "\n",
    "Stel je hebt de volgende response:\n",
    "```json\n",
    "{'data': \n",
    "    {'items_page_by_column_values': \n",
    "        {'items': [ \n",
    "            {'id': '1720037548',\n",
    "            'name': 'Maak een voorbeeld van een Planning Bord en bespreek met Datalab',\n",
    "            'column_values': [\n",
    "                {'id': 'status_stories', 'text': 'Wacht op review'},\n",
    "                {'id': 'numbers5', 'text': '2'},\n",
    "                {'id': 'date7', 'text': '2025-02-19'},\n",
    "                {'id': 'story_syntax', 'text': ''}]},\n",
    "            {'id': '1535950975',\n",
    "            'name': 'Doorgeven aan Alien: W-connect pagina vervallen links er uit halen',\n",
    "            'column_values': [\n",
    "                {'id': 'status_stories', 'text': 'To Do'},\n",
    "                {'id': 'numbers5', 'text': '1'},\n",
    "                {'id': 'date7', 'text': '2025-02-19'},\n",
    "                {'id': 'story_syntax', 'text': ''}]}\n",
    "        ]\n",
    "        }\n",
    "    }\n",
    "}\n",
    "```\n",
    "Je wil de 'items' hebben, dus 'data', 'items_page_by_column_values' en 'items' zelf moet je als het ware overslaan om de benodigde list te krijgen.\n",
    "\n",
    "Dus de functie roep je zo aan.\n",
    "\n",
    "```python\n",
    "get_items(request_response, ['data','items_page_by_column_values', 'items'])\n",
    "```\n"
   ]
  },
  {
   "cell_type": "code",
   "execution_count": 36,
   "metadata": {},
   "outputs": [],
   "source": [
    "# | export\n",
    "def get_items(\n",
    "    response: requests.models.Response,  # response from Monday.com API\n",
    "    skip_keys: list = [\"data\", \"items_page_by_column_values\", \"items\"],  # list of key values in the response to skip\n",
    ") -> list:  # list of items\n",
    "    return [item for item in response.json().values() if not any(key in item for key in skip_keys)]"
   ]
  },
  {
   "cell_type": "code",
   "execution_count": 59,
   "metadata": {},
   "outputs": [],
   "source": [
    "# | export\n",
    "def item_to_markdown(\n",
    "    item: str,  # json formatted string response from Monday.com API\n",
    ") -> str:  # Task formatted as Markdown for Obsidian\n",
    "    \"\"\"Convert Monday.com item to Markdown task format\"\"\"\n",
    "    # Extract the basic fields\n",
    "    name = item[\"name\"]\n",
    "\n",
    "    # Extract role: reviewer or trekker\n",
    "    \n",
    "    for col in item[\"column_values\"]:\n",
    "        if col[\"id\"] == \"people\" and col[\"text\"] == \"Jelle de Jong\":\n",
    "            role = \" 🤝reviewer\"\n",
    "            break # break after finding the role\n",
    "        elif col[\"id\"] == \"person\" and col[\"text\"] == \"Jelle de Jong\":\n",
    "            role = \"\" \n",
    "            break # break after finding the role\n",
    "        \n",
    "    # Extract values from column_values\n",
    "    for col in item[\"column_values\"]:\n",
    "        if col[\"id\"] == \"numbers5\":\n",
    "            try:\n",
    "                duration = int(col[\"text\"]) * 120\n",
    "            except ValueError:\n",
    "                duration = 0\n",
    "        elif col[\"id\"] == \"date7\":\n",
    "            date = col[\"text\"]\n",
    "\n",
    "    # Build the markdown string\n",
    "    markdown = f\"- [ ] {name}{role}\"\n",
    "\n",
    "    # Add duration if present\n",
    "    if duration > 0:\n",
    "        markdown += f\" [{duration}m]\"\n",
    "\n",
    "    # Add priority emoji and date if present\n",
    "    markdown += \" ⏫\"  # Priority marker\n",
    "    if date:\n",
    "        markdown += f\" 📅 {date}\"\n",
    "\n",
    "    return markdown"
   ]
  },
  {
   "cell_type": "code",
   "execution_count": 60,
   "metadata": {},
   "outputs": [
    {
     "name": "stdout",
     "output_type": "stream",
     "text": [
      "- [ ] Verwerken opmerkingen Stefan in document voorstel Python ondersteuning [120m] ⏫ 📅 2025-04-14\n",
      "- [ ] Richtlijnen Databricks Code uitwerken 🤝reviewer [120m] ⏫ 📅 2025-04-23\n",
      "- [ ] Vergelijkbare periode opzoeken in de 3 jaar met elk van de 3 methodes 🤝reviewer [240m] ⏫ 📅 2025-04-23\n",
      "- [ ] Statistische tests uitvoeren 🤝reviewer [360m] ⏫ 📅 2025-04-23\n",
      "- [ ] Intern overleg: Hoe kunnen we hydrologen en anderen buiten datalab helpen om Python code te schrijven, beherenen delen [120m] ⏫ 📅 2025-04-23\n",
      "- [ ] Validatie tool monitoringsgegevens begrijpen en draaien [120m] ⏫ 📅 2025-04-23\n",
      "- [ ] Maximum toerental van gemalen uit Clearscada implementeren in code 🤝reviewer [240m] ⏫ 📅 2025-04-23\n"
     ]
    }
   ],
   "source": [
    "# | export\n",
    "\n",
    "for item in r.json()[\"data\"][\"boards\"][0][\"items_page\"][\"items\"]:\n",
    "    print(item_to_markdown(item))"
   ]
  },
  {
   "cell_type": "code",
   "execution_count": 13,
   "metadata": {},
   "outputs": [],
   "source": [
    "# | hide\n",
    "import nbdev\n",
    "\n",
    "nbdev.nbdev_export()"
   ]
  }
 ],
 "metadata": {
  "kernelspec": {
   "display_name": ".venv",
   "language": "python",
   "name": "python3"
  },
  "language_info": {
   "codemirror_mode": {
    "name": "ipython",
    "version": 3
   },
   "file_extension": ".py",
   "mimetype": "text/x-python",
   "name": "python",
   "nbconvert_exporter": "python",
   "pygments_lexer": "ipython3",
   "version": "3.10.12"
  }
 },
 "nbformat": 4,
 "nbformat_minor": 4
}
